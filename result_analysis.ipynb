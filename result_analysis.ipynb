{
 "cells": [
  {
   "cell_type": "code",
   "execution_count": 1,
   "metadata": {},
   "outputs": [],
   "source": [
    "import warnings\n",
    "warnings.filterwarnings('ignore')\n",
    "import os\n",
    "import re\n",
    "import json\n",
    "import string\n",
    "import numpy as np\n",
    "import tensorflow as tf\n",
    "import pandas as pd\n",
    "from tensorflow import keras\n",
    "from tensorflow.keras import layers\n",
    "from transformers import AutoTokenizer, TFAutoModel\n",
    "from tensorflow.keras.callbacks import EarlyStopping, ModelCheckpoint\n",
    "\n",
    "from modules.utils import *\n",
    "from modules.dataframe_tools import *\n",
    "from keras.models import load_model"
   ]
  },
  {
   "cell_type": "code",
   "execution_count": 3,
   "metadata": {},
   "outputs": [],
   "source": [
    "def print_observation(record):\n",
    "    '''\n",
    "    Print to console the formatted prediction with relative informations\n",
    "    params: \n",
    "    - id: answer id\n",
    "    - record: a dataframe/dictionary with columns/keys: [\"pred\", \"question\", \"context\", \"true_answer\"]\n",
    "    - question: a string containing the question\n",
    "    - answer: a string containing the true answer as reported in the dataset\n",
    "    '''\n",
    "    id = record[\"id\"]\n",
    "    question = record[\"question\"]\n",
    "    pred = record[\"pred\"]\n",
    "    true_answer = record[\"true_answer\"]\n",
    "    context = record[\"context\"]\n",
    "\n",
    "    print(\"id:\\t\\t{}n\".format(id))\n",
    "    print(\"Question: \\t{}\".format(question))\n",
    "    print(\"Paragraph:\\t{}\".format(context))\n",
    "    print(\"True Answer:\\t{}\".format(true_answer))\n",
    "    print(\"predicted:\\t{}\".format(pred))\n",
    "    print(\"==============================================================\\n\\n\")\n",
    "\n"
   ]
  },
  {
   "cell_type": "code",
   "execution_count": 9,
   "metadata": {},
   "outputs": [],
   "source": [
    "path_to_json = \"dataset/training_set.json\"\n",
    "df_orig = create_df_test(path_to_json, [], parag_lift=2)\n",
    "df = df_orig.sample(n=5)\n",
    "\n",
    "path_to_pred = \"./output_ensemble.json\"\n",
    "with open(path_to_pred) as f:\n",
    "    json_txt = json.load(f)\n",
    "\n"
   ]
  },
  {
   "cell_type": "code",
   "execution_count": 15,
   "metadata": {},
   "outputs": [
    {
     "data": {
      "text/plain": [
       "Index(['id', 'title', 'context', 'question', 'answer_text', 'start_idx'], dtype='object')"
      ]
     },
     "execution_count": 15,
     "metadata": {},
     "output_type": "execute_result"
    }
   ],
   "source": [
    "df.columns"
   ]
  },
  {
   "cell_type": "code",
   "execution_count": 12,
   "metadata": {},
   "outputs": [],
   "source": [
    "pred = [json_txt.get(k) for k in df[\"id\"]]"
   ]
  },
  {
   "cell_type": "code",
   "execution_count": 20,
   "metadata": {},
   "outputs": [],
   "source": [
    "df3 = {\"id\": df[\"id\"],\n",
    "        \"pred\": pred,\n",
    "        \"true_answer\": df[\"answer_text\"].tolist(),\n",
    "        \"context\": df[\"context\"].tolist(),\n",
    "        \"question\": df[\"question\"].tolist()}\n",
    "\n",
    "df3 = pd.DataFrame.from_dict(df3, orient =\"columns\")"
   ]
  },
  {
   "cell_type": "code",
   "execution_count": 26,
   "metadata": {},
   "outputs": [
    {
     "data": {
      "text/html": [
       "<div>\n",
       "<style scoped>\n",
       "    .dataframe tbody tr th:only-of-type {\n",
       "        vertical-align: middle;\n",
       "    }\n",
       "\n",
       "    .dataframe tbody tr th {\n",
       "        vertical-align: top;\n",
       "    }\n",
       "\n",
       "    .dataframe thead th {\n",
       "        text-align: right;\n",
       "    }\n",
       "</style>\n",
       "<table border=\"1\" class=\"dataframe\">\n",
       "  <thead>\n",
       "    <tr style=\"text-align: right;\">\n",
       "      <th></th>\n",
       "      <th>pred</th>\n",
       "      <th>true_answer</th>\n",
       "      <th>context</th>\n",
       "      <th>question</th>\n",
       "    </tr>\n",
       "  </thead>\n",
       "  <tbody>\n",
       "    <tr>\n",
       "      <th>0</th>\n",
       "      <td>God Bless the USA</td>\n",
       "      <td>God Bless the USA</td>\n",
       "      <td>Beyoncé participated in George Clooney and Wyc...</td>\n",
       "      <td>What Lee Greenwood song did Beyoncé cover afte...</td>\n",
       "    </tr>\n",
       "    <tr>\n",
       "      <th>1</th>\n",
       "      <td>love, relationships, and monogamy</td>\n",
       "      <td>love, relationships, and monogamy</td>\n",
       "      <td>A self-described \"modern-day feminist\", Beyonc...</td>\n",
       "      <td>In her music, what are some recurring elements...</td>\n",
       "    </tr>\n",
       "    <tr>\n",
       "      <th>2</th>\n",
       "      <td>Coldplay, on their seventh studio album A Head...</td>\n",
       "      <td>Coldplay</td>\n",
       "      <td>At the 57th Annual Grammy Awards in February 2...</td>\n",
       "      <td>Who did Beyonce perform next to during Superbo...</td>\n",
       "    </tr>\n",
       "    <tr>\n",
       "      <th>3</th>\n",
       "      <td>WSND-FM</td>\n",
       "      <td>WSND-FM</td>\n",
       "      <td>The television station, NDtv, grew from one sh...</td>\n",
       "      <td>Which radio station provides radio to the stud...</td>\n",
       "    </tr>\n",
       "    <tr>\n",
       "      <th>4</th>\n",
       "      <td>Parkwood Topshop Athletic Ltd</td>\n",
       "      <td>activewear</td>\n",
       "      <td>In October 2014, it was announced that Beyoncé...</td>\n",
       "      <td>What was the new division of Topshop because o...</td>\n",
       "    </tr>\n",
       "  </tbody>\n",
       "</table>\n",
       "</div>"
      ],
      "text/plain": [
       "                                                pred  \\\n",
       "0                                  God Bless the USA   \n",
       "1                  love, relationships, and monogamy   \n",
       "2  Coldplay, on their seventh studio album A Head...   \n",
       "3                                            WSND-FM   \n",
       "4                      Parkwood Topshop Athletic Ltd   \n",
       "\n",
       "                         true_answer  \\\n",
       "0                  God Bless the USA   \n",
       "1  love, relationships, and monogamy   \n",
       "2                           Coldplay   \n",
       "3                            WSND-FM   \n",
       "4                         activewear   \n",
       "\n",
       "                                             context  \\\n",
       "0  Beyoncé participated in George Clooney and Wyc...   \n",
       "1  A self-described \"modern-day feminist\", Beyonc...   \n",
       "2  At the 57th Annual Grammy Awards in February 2...   \n",
       "3  The television station, NDtv, grew from one sh...   \n",
       "4  In October 2014, it was announced that Beyoncé...   \n",
       "\n",
       "                                            question  \n",
       "0  What Lee Greenwood song did Beyoncé cover afte...  \n",
       "1  In her music, what are some recurring elements...  \n",
       "2  Who did Beyonce perform next to during Superbo...  \n",
       "3  Which radio station provides radio to the stud...  \n",
       "4  What was the new division of Topshop because o...  "
      ]
     },
     "execution_count": 26,
     "metadata": {},
     "output_type": "execute_result"
    }
   ],
   "source": [
    "df3"
   ]
  },
  {
   "cell_type": "code",
   "execution_count": 25,
   "metadata": {},
   "outputs": [
    {
     "name": "stdout",
     "output_type": "stream",
     "text": [
      "(0, pred                                           God Bless the USA\n",
      "true_answer                                    God Bless the USA\n",
      "context        Beyoncé participated in George Clooney and Wyc...\n",
      "question       What Lee Greenwood song did Beyoncé cover afte...\n",
      "Name: 0, dtype: object)\n"
     ]
    },
    {
     "ename": "TypeError",
     "evalue": "print_observation() missing 1 required positional argument: 'record'",
     "output_type": "error",
     "traceback": [
      "\u001b[1;31m---------------------------------------------------------------------------\u001b[0m",
      "\u001b[1;31mTypeError\u001b[0m                                 Traceback (most recent call last)",
      "\u001b[1;32m~\\AppData\\Local\\Temp/ipykernel_9148/3556142424.py\u001b[0m in \u001b[0;36m<module>\u001b[1;34m\u001b[0m\n\u001b[0;32m      1\u001b[0m \u001b[1;32mfor\u001b[0m \u001b[0mrow\u001b[0m \u001b[1;32min\u001b[0m \u001b[0mdf3\u001b[0m\u001b[1;33m.\u001b[0m\u001b[0miterrows\u001b[0m\u001b[1;33m(\u001b[0m\u001b[1;33m)\u001b[0m\u001b[1;33m:\u001b[0m\u001b[1;33m\u001b[0m\u001b[1;33m\u001b[0m\u001b[0m\n\u001b[0;32m      2\u001b[0m     \u001b[0mprint\u001b[0m\u001b[1;33m(\u001b[0m\u001b[0mrow\u001b[0m\u001b[1;33m)\u001b[0m\u001b[1;33m\u001b[0m\u001b[1;33m\u001b[0m\u001b[0m\n\u001b[1;32m----> 3\u001b[1;33m     \u001b[0mprint_observation\u001b[0m\u001b[1;33m(\u001b[0m\u001b[0mrow\u001b[0m\u001b[1;33m)\u001b[0m\u001b[1;33m\u001b[0m\u001b[1;33m\u001b[0m\u001b[0m\n\u001b[0m",
      "\u001b[1;31mTypeError\u001b[0m: print_observation() missing 1 required positional argument: 'record'"
     ]
    }
   ],
   "source": [
    "\n",
    "for row in df3.iterrows():\n",
    "    print(row)\n",
    "    print_observation(row)"
   ]
  },
  {
   "cell_type": "code",
   "execution_count": null,
   "metadata": {},
   "outputs": [],
   "source": []
  }
 ],
 "metadata": {
  "interpreter": {
   "hash": "142c04f5e56acdc46519d9be88fe7b0ac1e27e2b2695cd0df73b920a15326c1f"
  },
  "kernelspec": {
   "display_name": "Python 3.6.13 64-bit ('tesi2': conda)",
   "language": "python",
   "name": "python3"
  },
  "language_info": {
   "codemirror_mode": {
    "name": "ipython",
    "version": 3
   },
   "file_extension": ".py",
   "mimetype": "text/x-python",
   "name": "python",
   "nbconvert_exporter": "python",
   "pygments_lexer": "ipython3",
   "version": "3.9.7"
  },
  "orig_nbformat": 4
 },
 "nbformat": 4,
 "nbformat_minor": 2
}
